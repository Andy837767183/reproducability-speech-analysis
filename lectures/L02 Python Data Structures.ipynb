{
 "cells": [
  {
   "cell_type": "markdown",
   "metadata": {
    "slideshow": {
     "slide_type": "slide"
    }
   },
   "source": [
    "# Python Data Structures\n",
    "\n",
    "* Understand the different data structures available in Python\n",
    "* Strings, Lists, Tuples, Dictionaries\n",
    "* Methods defined on each type \n",
    "* What to use for different tasks\n",
    "* Packages and data structures for numerical data analysis:\n",
    "    * Numpy vectors, arrays, matrices"
   ]
  },
  {
   "cell_type": "markdown",
   "metadata": {
    "slideshow": {
     "slide_type": "slide"
    }
   },
   "source": [
    "## Strings\n",
    "\n",
    "* Sequence of characters representing text\n",
    "* In Python, strings are unicode - so can store any characters\n",
    "* Can use single quote ', double quote \" or triple quotes \"\"\" \n",
    "* Strings are objects, call methods on them\n",
    "* Check out [the documentation](https://docs.python.org/3/library/string.html) for more"
   ]
  },
  {
   "cell_type": "code",
   "execution_count": 9,
   "metadata": {
    "slideshow": {
     "slide_type": "subslide"
    }
   },
   "outputs": [
    {
     "data": {
      "text/plain": [
       "'triple quoted string\\ncan contain \\nnewlines'"
      ]
     },
     "execution_count": 9,
     "metadata": {},
     "output_type": "execute_result"
    }
   ],
   "source": [
    "s1 = 'single quoted string might have \"quotes in it\"'\n",
    "s2 = \"double quoted string could contain it's or that's\"\n",
    "s3 = \"\"\"triple quoted string\n",
    "can contain \n",
    "newlines\"\"\"\n",
    "s4 = \"String containing 中文\"\n",
    "s3"
   ]
  },
  {
   "cell_type": "code",
   "execution_count": 10,
   "metadata": {
    "slideshow": {
     "slide_type": "fragment"
    }
   },
   "outputs": [
    {
     "name": "stdout",
     "output_type": "stream",
     "text": [
      "triple quoted string\n",
      "can contain \n",
      "newlines\n"
     ]
    }
   ],
   "source": [
    "print(s3)"
   ]
  },
  {
   "cell_type": "markdown",
   "metadata": {
    "slideshow": {
     "slide_type": "slide"
    }
   },
   "source": [
    "# Operations on Strings"
   ]
  },
  {
   "cell_type": "code",
   "execution_count": 12,
   "metadata": {
    "slideshow": {
     "slide_type": "fragment"
    }
   },
   "outputs": [
    {
     "data": {
      "text/plain": [
       "'STRING CONTAINING 中文'"
      ]
     },
     "execution_count": 12,
     "metadata": {},
     "output_type": "execute_result"
    }
   ],
   "source": [
    "# convert s4 to uppercase and store as s5\n",
    "s5 = s4.upper()\n",
    "s5"
   ]
  },
  {
   "cell_type": "code",
   "execution_count": 18,
   "metadata": {
    "slideshow": {
     "slide_type": "fragment"
    }
   },
   "outputs": [
    {
     "data": {
      "text/plain": [
       "'g containing 中文'"
      ]
     },
     "execution_count": 18,
     "metadata": {},
     "output_type": "execute_result"
    }
   ],
   "source": [
    "# find the first occurence of 'g' in s4\n",
    "firstg = s4.find('g')\n",
    "# get all characters after that\n",
    "s4[firstg:]"
   ]
  },
  {
   "cell_type": "markdown",
   "metadata": {
    "slideshow": {
     "slide_type": "slide"
    }
   },
   "source": [
    "# Lists and Tuples\n",
    "\n",
    "* Lists are sequences of values\n",
    "* Written inside square brackets, separated by commas\n",
    "    * ['this', 'is', 'a', 'list', 'of', 'strings'], [3, 4, 6]\n",
    "    * ['strings', 'and', 3, 9, 2]\n",
    "    * ['lists', 'containing', ['another', 'list']]\n",
    "* Lists can be modified, elements added, removed, replaced\n",
    "* Tuples are just like lists but can't be modified\n",
    "    * ('this', 'is', 'a', 'tuple')\n",
    "    * sometimes it's more efficient to use a tuple\n",
    "* Check out the [documentation](https://docs.python.org/3/library/stdtypes.html#sequence-types-list-tuple-range)"
   ]
  },
  {
   "cell_type": "code",
   "execution_count": 22,
   "metadata": {
    "slideshow": {
     "slide_type": "slide"
    }
   },
   "outputs": [
    {
     "data": {
      "text/plain": [
       "['embedded', 'list', ['this', 'is', 'a', 'list', 'of', 'strings']]"
      ]
     },
     "execution_count": 22,
     "metadata": {},
     "output_type": "execute_result"
    }
   ],
   "source": [
    "list1 = ['this', 'is', 'a', 'list', 'of', 'strings']\n",
    "list2 = ['embedded', 'list', list1]\n",
    "list2"
   ]
  },
  {
   "cell_type": "code",
   "execution_count": 24,
   "metadata": {
    "slideshow": {
     "slide_type": "fragment"
    }
   },
   "outputs": [
    {
     "data": {
      "text/plain": [
       "True"
      ]
     },
     "execution_count": 24,
     "metadata": {},
     "output_type": "execute_result"
    }
   ],
   "source": [
    "# the 'in' operator checks whether something is in a list\n",
    "'a' in list1"
   ]
  },
  {
   "cell_type": "code",
   "execution_count": 27,
   "metadata": {
    "slideshow": {
     "slide_type": "fragment"
    }
   },
   "outputs": [
    {
     "name": "stdout",
     "output_type": "stream",
     "text": [
      "found it\n"
     ]
    }
   ],
   "source": [
    "if 'a' in list1:\n",
    "    print(\"found it\")\n",
    "else:\n",
    "    print(\"not found\")"
   ]
  },
  {
   "cell_type": "markdown",
   "metadata": {
    "slideshow": {
     "slide_type": "slide"
    }
   },
   "source": [
    "# Lists and Loops"
   ]
  },
  {
   "cell_type": "code",
   "execution_count": 30,
   "metadata": {
    "slideshow": {
     "slide_type": "fragment"
    }
   },
   "outputs": [
    {
     "name": "stdout",
     "output_type": "stream",
     "text": [
      "['To', 'be', 'or', 'not', 'to', 'be', 'that', 'is', 'the', 'question']\n",
      "[2, 2, 2, 3, 2, 2, 4, 2, 3, 8]\n"
     ]
    }
   ],
   "source": [
    "text = \"To be or not to be that is the question\"\n",
    "# split the string at every space character, generate a list\n",
    "words = text.split()\n",
    "print(words)\n",
    "\n",
    "# create a new empty list\n",
    "wordlengths = []\n",
    "for word in words:\n",
    "    # append the length of this word to our list\n",
    "    wordlengths.append(len(word))\n",
    "\n",
    "print(wordlengths)"
   ]
  },
  {
   "cell_type": "markdown",
   "metadata": {
    "slideshow": {
     "slide_type": "slide"
    }
   },
   "source": [
    "# Tuples vs Lists"
   ]
  },
  {
   "cell_type": "code",
   "execution_count": 37,
   "metadata": {
    "slideshow": {
     "slide_type": "fragment"
    }
   },
   "outputs": [
    {
     "name": "stdout",
     "output_type": "stream",
     "text": [
      "Length:  3\n",
      "Second element:  cassidy\n"
     ]
    }
   ],
   "source": [
    "# could use a tuple to represent a data record\n",
    "record = ('steve', 'cassidy', 39)\n",
    "# can use some of the same operations as lists\n",
    "print(\"Length: \", len(record))\n",
    "print(\"Second element: \", record[1])"
   ]
  },
  {
   "cell_type": "code",
   "execution_count": 38,
   "metadata": {
    "slideshow": {
     "slide_type": "fragment"
    }
   },
   "outputs": [
    {
     "ename": "AttributeError",
     "evalue": "'tuple' object has no attribute 'append'",
     "output_type": "error",
     "traceback": [
      "\u001b[0;31m\u001b[0m",
      "\u001b[0;31mAttributeError\u001b[0mTraceback (most recent call last)",
      "\u001b[0;32m<ipython-input-38-12c1483dd356>\u001b[0m in \u001b[0;36m<module>\u001b[0;34m()\u001b[0m\n\u001b[1;32m      1\u001b[0m \u001b[0;31m# but this can't be modified\u001b[0m\u001b[0;34m\u001b[0m\u001b[0;34m\u001b[0m\u001b[0m\n\u001b[0;32m----> 2\u001b[0;31m \u001b[0mrecord\u001b[0m\u001b[0;34m.\u001b[0m\u001b[0mappend\u001b[0m\u001b[0;34m(\u001b[0m\u001b[0;36m21\u001b[0m\u001b[0;34m)\u001b[0m\u001b[0;34m\u001b[0m\u001b[0m\n\u001b[0m",
      "\u001b[0;31mAttributeError\u001b[0m: 'tuple' object has no attribute 'append'"
     ]
    }
   ],
   "source": [
    "# but this can't be modified\n",
    "record.append(21)"
   ]
  },
  {
   "cell_type": "markdown",
   "metadata": {
    "slideshow": {
     "slide_type": "slide"
    }
   },
   "source": [
    "# Tuples, Lists and Strings\n",
    "\n",
    "These are all _sequence_ types and share some common operations."
   ]
  },
  {
   "cell_type": "code",
   "execution_count": 55,
   "metadata": {
    "slideshow": {
     "slide_type": "fragment"
    }
   },
   "outputs": [
    {
     "data": {
      "text/plain": [
       "1"
      ]
     },
     "execution_count": 55,
     "metadata": {},
     "output_type": "execute_result"
    }
   ],
   "source": [
    "s = ['a', 'list', 'of', 'stuff']\n",
    "t = [1, 2, 3]\n",
    "\n",
    "'a' in s         # boolean test\n",
    "'x' not in s     # boolean test\n",
    "s + t            # concatenate s and t\n",
    "t * 3            # t repeated 3 times\n",
    "s[1]             # second element\n",
    "s[:2]            # all elements up to the second\n",
    "s[2:4]           # all elements from 3rd to 4th\n",
    "min(s)           # smallest element\n",
    "max(s)           # largest element\n",
    "s.count('a')     # how many times does 'a' occur"
   ]
  },
  {
   "cell_type": "markdown",
   "metadata": {
    "slideshow": {
     "slide_type": "slide"
    }
   },
   "source": [
    "# Dictionaries\n",
    "\n",
    "* Dictionaries are associative arrays\n",
    "* Associate a key with a value\n",
    "* Key can be any immutable type (string, number, tuple)\n",
    "* Value can be anything\n",
    "* O(1) access to elements (hash table)\n",
    "* Compare with lists that are O(n)\n"
   ]
  },
  {
   "cell_type": "markdown",
   "metadata": {},
   "source": [
    "# Dictionaries"
   ]
  },
  {
   "cell_type": "code",
   "execution_count": 57,
   "metadata": {
    "slideshow": {
     "slide_type": "slide"
    }
   },
   "outputs": [
    {
     "data": {
      "text/plain": [
       "{'name': 'Steve Cassidy', 'age': 53, 'weight': 80}"
      ]
     },
     "execution_count": 57,
     "metadata": {},
     "output_type": "execute_result"
    }
   ],
   "source": [
    "info = dict()\n",
    "info['name'] = 'Steve Cassidy'\n",
    "info['age'] = 53\n",
    "info['weight'] = 80\n",
    "info"
   ]
  },
  {
   "cell_type": "code",
   "execution_count": 59,
   "metadata": {
    "slideshow": {
     "slide_type": "fragment"
    }
   },
   "outputs": [
    {
     "data": {
      "text/plain": [
       "53"
      ]
     },
     "execution_count": 59,
     "metadata": {},
     "output_type": "execute_result"
    }
   ],
   "source": [
    "info = {\n",
    "    'name': 'Steve Cassidy', \n",
    "    'age': 53, \n",
    "    'weight': 80\n",
    "}\n",
    "info['age']"
   ]
  },
  {
   "cell_type": "code",
   "execution_count": 60,
   "metadata": {
    "slideshow": {
     "slide_type": "fragment"
    }
   },
   "outputs": [
    {
     "name": "stdout",
     "output_type": "stream",
     "text": [
      "Age:  53\n"
     ]
    }
   ],
   "source": [
    "if 'age' in info:\n",
    "    print(\"Age: \", info['age'])"
   ]
  },
  {
   "cell_type": "markdown",
   "metadata": {
    "slideshow": {
     "slide_type": "slide"
    }
   },
   "source": [
    "# An Example\n",
    "\n",
    "Let's write some code to use strings, lists and dictionaries to solve a problem. \n",
    "\n",
    "Given a text, count how many times each word occurs in the text.\n"
   ]
  },
  {
   "cell_type": "code",
   "execution_count": 70,
   "metadata": {
    "slideshow": {
     "slide_type": "subslide"
    }
   },
   "outputs": [
    {
     "name": "stdout",
     "output_type": "stream",
     "text": [
      "python is an easy to learn  powerful programming language  \n",
      "it has efficient high level data structures and a simple but effective \n",
      "approach to object oriented programming  python’s elegant syntax \n",
      "and dynamic typing  together with its interpreted nature  make \n",
      "it an ideal language for scripting and rapid application development \n",
      "in many areas on most platforms \n"
     ]
    }
   ],
   "source": [
    "text = \"\"\"Python is an easy to learn, powerful programming language. \n",
    "It has efficient high-level data structures and a simple but effective \n",
    "approach to object-oriented programming. Python’s elegant syntax \n",
    "and dynamic typing, together with its interpreted nature, make \n",
    "it an ideal language for scripting and rapid application development \n",
    "in many areas on most platforms.\"\"\"\n",
    "\n",
    "# remove punctuation and convert to lowercase\n",
    "text = text.replace(',',' ').replace('.', ' ').replace('-', ' ')\n",
    "text = text.lower()\n",
    "print(text)\n"
   ]
  },
  {
   "cell_type": "code",
   "execution_count": 74,
   "metadata": {
    "slideshow": {
     "slide_type": "subslide"
    }
   },
   "outputs": [
    {
     "name": "stdout",
     "output_type": "stream",
     "text": [
      "a 1\n",
      "an 2\n",
      "and 3\n",
      "application 1\n",
      "approach 1\n",
      "areas 1\n",
      "but 1\n",
      "data 1\n",
      "development 1\n",
      "dynamic 1\n",
      "easy 1\n",
      "effective 1\n",
      "efficient 1\n",
      "elegant 1\n",
      "for 1\n",
      "has 1\n",
      "high 1\n",
      "ideal 1\n",
      "in 1\n",
      "interpreted 1\n",
      "is 1\n",
      "it 2\n",
      "its 1\n",
      "language 2\n",
      "learn 1\n",
      "level 1\n",
      "make 1\n",
      "many 1\n",
      "most 1\n",
      "nature 1\n",
      "object 1\n",
      "on 1\n",
      "oriented 1\n",
      "platforms 1\n",
      "powerful 1\n",
      "programming 2\n",
      "python 1\n",
      "python’s 1\n",
      "rapid 1\n",
      "scripting 1\n",
      "simple 1\n",
      "structures 1\n",
      "syntax 1\n",
      "to 2\n",
      "together 1\n",
      "typing 1\n",
      "with 1\n"
     ]
    }
   ],
   "source": [
    "# split text into words on whitespace\n",
    "words = text.split()\n",
    "# intialise a dictionary for word counts\n",
    "# we will use the word as a key and store the count for each word\n",
    "count = dict()\n",
    "# count the words\n",
    "for word in words:\n",
    "    if word in count:\n",
    "        count[word] += 1        # word is already in the dictionary\n",
    "    else:\n",
    "        count[word] = 1         # word is not in the dictionary\n",
    "\n",
    "for word in sorted(count):\n",
    "    print(word, count[word])"
   ]
  },
  {
   "cell_type": "markdown",
   "metadata": {},
   "source": [
    "# NumPy Data Structures"
   ]
  }
 ],
 "metadata": {
  "celltoolbar": "Slideshow",
  "kernelspec": {
   "display_name": "Python 3",
   "language": "python",
   "name": "python3"
  },
  "language_info": {
   "codemirror_mode": {
    "name": "ipython",
    "version": 3
   },
   "file_extension": ".py",
   "mimetype": "text/x-python",
   "name": "python",
   "nbconvert_exporter": "python",
   "pygments_lexer": "ipython3",
   "version": "3.6.5"
  }
 },
 "nbformat": 4,
 "nbformat_minor": 2
}
