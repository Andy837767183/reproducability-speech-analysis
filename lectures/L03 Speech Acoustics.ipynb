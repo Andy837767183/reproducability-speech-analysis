{
 "cells": [
  {
   "cell_type": "markdown",
   "metadata": {
    "slideshow": {
     "slide_type": "slide"
    }
   },
   "source": [
    "# Speech Acoustics\n",
    "\n",
    "* How is speech produced? \n",
    "    * The physics of speech\n",
    "    * The source-filter model of speech\n",
    "    * Speech sounds: phonetics and phonology\n",
    "* Sources of variability in speech\n",
    "    * What makes one speech recording different from another? \n",
    "* Digital speech signals\n",
    "* Spectral representations of speech\n",
    "* Some things we can observe about speech\n",
    "* Some problems in automatic speech analysis"
   ]
  },
  {
   "cell_type": "markdown",
   "metadata": {
    "slideshow": {
     "slide_type": "slide"
    }
   },
   "source": []
  }
 ],
 "metadata": {
  "celltoolbar": "Slideshow",
  "kernelspec": {
   "display_name": "Python 3",
   "language": "python",
   "name": "python3"
  },
  "language_info": {
   "codemirror_mode": {
    "name": "ipython",
    "version": 3
   },
   "file_extension": ".py",
   "mimetype": "text/x-python",
   "name": "python",
   "nbconvert_exporter": "python",
   "pygments_lexer": "ipython3",
   "version": "3.6.5"
  }
 },
 "nbformat": 4,
 "nbformat_minor": 2
}
