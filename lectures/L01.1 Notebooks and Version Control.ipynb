{
 "cells": [
  {
   "cell_type": "markdown",
   "metadata": {
    "slideshow": {
     "slide_type": "slide"
    }
   },
   "source": [
    "# Version Control\n",
    "\n",
    "* What is Version Control? \n",
    "* Why is it relevant to this course? \n",
    "* About the Git VC system\n",
    "* About GitHub (or GitLab, Bitbucket)\n",
    "* How we will use Git in this course\n",
    "\n",
    "We will work through the [Software Carpentry Git Notes](https://swcarpentry.github.io/git-novice/)"
   ]
  },
  {
   "cell_type": "markdown",
   "metadata": {},
   "source": [
    "# Running and Using Jupyter\n",
    "\n",
    "* How to run the Jupyter notebook server\n",
    "* Connecting to the server and running a notebook\n",
    "* Managing notebooks\n",
    "* Getting notebooks from GitHub\n",
    "* Making changes and working with version control"
   ]
  },
  {
   "cell_type": "code",
   "execution_count": null,
   "metadata": {},
   "outputs": [],
   "source": []
  }
 ],
 "metadata": {
  "celltoolbar": "Slideshow",
  "kernelspec": {
   "display_name": "Python 3",
   "language": "python",
   "name": "python3"
  },
  "language_info": {
   "codemirror_mode": {
    "name": "ipython",
    "version": 3
   },
   "file_extension": ".py",
   "mimetype": "text/x-python",
   "name": "python",
   "nbconvert_exporter": "python",
   "pygments_lexer": "ipython3",
   "version": "3.6.5"
  }
 },
 "nbformat": 4,
 "nbformat_minor": 2
}
